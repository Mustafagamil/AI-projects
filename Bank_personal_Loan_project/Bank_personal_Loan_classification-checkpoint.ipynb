{
 "cells": [
  {
   "cell_type": "markdown",
   "id": "61f6dae8",
   "metadata": {},
   "source": [
    "## Project Title: Marketing Campaign for Banking Products\n",
    "\n",
    "Bank is has a growing customer base. The bank wants to increase borrowers (asset customers) base to bring in more loan business and earn more through the interest on loans. So , bank wants to convert the liability based customers to personal loan customers. (while retaining them as depositors).The department wants to build a model that will help them identify the potential customers who have higher probability of purchasing the loan. This will increase the success ratio while at the same time reduce the cost of the campaign.\n",
    "\n",
    "The dataset contains data on 5000 customers\n",
    "\n",
    "The case is The Bank has a customers Data with various characteristics of the customers. The management built a new product - Personal Loan, and ran a small campaign towards selling the New Product to their clients. After some time, 9% of customers have Personal Loan from The Bank.\n",
    "\n",
    "The GOAL IS!\n",
    "\n",
    " To sell more Personal Loan products to Bank customers.\n",
    " To devise campaigns to better target marketing to increase the success ratio with a minimal budget.\n",
    " To identify the potential customers who have a higher probability of purchasing the loan.\n",
    "\n",
    "Increase the success ratio of advertisement campaign while at the same time reduce the cost of the campaign."
   ]
  },
  {
   "cell_type": "code",
   "execution_count": 53,
   "id": "931507e5",
   "metadata": {},
   "outputs": [],
   "source": [
    "import numpy as np \n",
    "import pandas as pd \n",
    "import seaborn as sns\n",
    "import matplotlib.pyplot as plt\n",
    "from sklearn.linear_model import LogisticRegression, LinearRegression\n",
    "from sklearn.neighbors import KNeighborsClassifier, KNeighborsRegressor\n",
    "from sklearn.naive_bayes import GaussianNB\n",
    "from sklearn.tree import DecisionTreeClassifier\n",
    "from sklearn.svm import SVC\n",
    "from sklearn.ensemble import GradientBoostingClassifier\n",
    "from sklearn.ensemble import RandomForestClassifier, GradientBoostingClassifier\n",
    "from sklearn.preprocessing import StandardScaler\n",
    "from sklearn.preprocessing import MinMaxScaler\n",
    "from sklearn.model_selection import train_test_split\n",
    "from sklearn.metrics import confusion_matrix , accuracy_score"
   ]
  },
  {
   "cell_type": "code",
   "execution_count": 2,
   "id": "1b126b0a",
   "metadata": {},
   "outputs": [],
   "source": [
    "df = pd.read_csv('Bank_Personal_Loan_Modelling_classification.csv', encoding='ISO-8859-1')"
   ]
  },
  {
   "cell_type": "code",
   "execution_count": 3,
   "id": "e8929b3f",
   "metadata": {},
   "outputs": [
    {
     "data": {
      "text/html": [
       "<div>\n",
       "<style scoped>\n",
       "    .dataframe tbody tr th:only-of-type {\n",
       "        vertical-align: middle;\n",
       "    }\n",
       "\n",
       "    .dataframe tbody tr th {\n",
       "        vertical-align: top;\n",
       "    }\n",
       "\n",
       "    .dataframe thead th {\n",
       "        text-align: right;\n",
       "    }\n",
       "</style>\n",
       "<table border=\"1\" class=\"dataframe\">\n",
       "  <thead>\n",
       "    <tr style=\"text-align: right;\">\n",
       "      <th></th>\n",
       "      <th>ID</th>\n",
       "      <th>Age</th>\n",
       "      <th>Experience</th>\n",
       "      <th>Income</th>\n",
       "      <th>ZIP Code</th>\n",
       "      <th>Family</th>\n",
       "      <th>CCAvg</th>\n",
       "      <th>Education</th>\n",
       "      <th>Mortgage</th>\n",
       "      <th>Personal Loan</th>\n",
       "      <th>Securities Account</th>\n",
       "      <th>Online</th>\n",
       "      <th>CreditCard</th>\n",
       "    </tr>\n",
       "  </thead>\n",
       "  <tbody>\n",
       "    <tr>\n",
       "      <th>0</th>\n",
       "      <td>1</td>\n",
       "      <td>25</td>\n",
       "      <td>1</td>\n",
       "      <td>49</td>\n",
       "      <td>91107</td>\n",
       "      <td>4</td>\n",
       "      <td>1.6</td>\n",
       "      <td>1</td>\n",
       "      <td>0</td>\n",
       "      <td>0</td>\n",
       "      <td>1.0</td>\n",
       "      <td>0</td>\n",
       "      <td>0</td>\n",
       "    </tr>\n",
       "    <tr>\n",
       "      <th>1</th>\n",
       "      <td>2</td>\n",
       "      <td>45</td>\n",
       "      <td>19</td>\n",
       "      <td>34</td>\n",
       "      <td>90089</td>\n",
       "      <td>3</td>\n",
       "      <td>1.5</td>\n",
       "      <td>1</td>\n",
       "      <td>0</td>\n",
       "      <td>0</td>\n",
       "      <td>1.0</td>\n",
       "      <td>0</td>\n",
       "      <td>0</td>\n",
       "    </tr>\n",
       "    <tr>\n",
       "      <th>2</th>\n",
       "      <td>3</td>\n",
       "      <td>39</td>\n",
       "      <td>15</td>\n",
       "      <td>11</td>\n",
       "      <td>94720</td>\n",
       "      <td>1</td>\n",
       "      <td>1</td>\n",
       "      <td>1</td>\n",
       "      <td>0</td>\n",
       "      <td>0</td>\n",
       "      <td>0.0</td>\n",
       "      <td>0</td>\n",
       "      <td>0</td>\n",
       "    </tr>\n",
       "    <tr>\n",
       "      <th>3</th>\n",
       "      <td>4</td>\n",
       "      <td>35</td>\n",
       "      <td>9</td>\n",
       "      <td>100</td>\n",
       "      <td>94112</td>\n",
       "      <td>1</td>\n",
       "      <td>2.7</td>\n",
       "      <td>2</td>\n",
       "      <td>0</td>\n",
       "      <td>0</td>\n",
       "      <td>0.0</td>\n",
       "      <td>0</td>\n",
       "      <td>0</td>\n",
       "    </tr>\n",
       "    <tr>\n",
       "      <th>4</th>\n",
       "      <td>5</td>\n",
       "      <td>35</td>\n",
       "      <td>8</td>\n",
       "      <td>45</td>\n",
       "      <td>91330</td>\n",
       "      <td>4</td>\n",
       "      <td>1</td>\n",
       "      <td>2</td>\n",
       "      <td>0</td>\n",
       "      <td>0</td>\n",
       "      <td>0.0</td>\n",
       "      <td>0</td>\n",
       "      <td>1</td>\n",
       "    </tr>\n",
       "  </tbody>\n",
       "</table>\n",
       "</div>"
      ],
      "text/plain": [
       "   ID Age Experience  Income ZIP Code  Family CCAvg  Education Mortgage  \\\n",
       "0   1  25          1      49    91107       4   1.6          1        0   \n",
       "1   2  45         19      34    90089       3   1.5          1        0   \n",
       "2   3  39         15      11    94720       1     1          1        0   \n",
       "3   4  35          9     100    94112       1   2.7          2        0   \n",
       "4   5  35          8      45    91330       4     1          2        0   \n",
       "\n",
       "  Personal Loan  Securities Account Online CreditCard  \n",
       "0             0                 1.0      0          0  \n",
       "1             0                 1.0      0          0  \n",
       "2             0                 0.0      0          0  \n",
       "3             0                 0.0      0          0  \n",
       "4             0                 0.0      0          1  "
      ]
     },
     "execution_count": 3,
     "metadata": {},
     "output_type": "execute_result"
    }
   ],
   "source": [
    "df.head()"
   ]
  },
  {
   "cell_type": "code",
   "execution_count": 4,
   "id": "93d21150",
   "metadata": {},
   "outputs": [
    {
     "name": "stdout",
     "output_type": "stream",
     "text": [
      "<class 'pandas.core.frame.DataFrame'>\n",
      "RangeIndex: 5000 entries, 0 to 4999\n",
      "Data columns (total 13 columns):\n",
      " #   Column              Non-Null Count  Dtype  \n",
      "---  ------              --------------  -----  \n",
      " 0   ID                  5000 non-null   int64  \n",
      " 1   Age                 5000 non-null   object \n",
      " 2   Experience          5000 non-null   object \n",
      " 3   Income              5000 non-null   int64  \n",
      " 4   ZIP Code            4999 non-null   object \n",
      " 5   Family              5000 non-null   int64  \n",
      " 6   CCAvg               4998 non-null   object \n",
      " 7   Education           5000 non-null   int64  \n",
      " 8   Mortgage            4999 non-null   object \n",
      " 9   Personal Loan       5000 non-null   object \n",
      " 10  Securities Account  4997 non-null   float64\n",
      " 11  Online              5000 non-null   object \n",
      " 12  CreditCard          4998 non-null   object \n",
      "dtypes: float64(1), int64(4), object(8)\n",
      "memory usage: 507.9+ KB\n"
     ]
    }
   ],
   "source": [
    "df.info()"
   ]
  },
  {
   "cell_type": "code",
   "execution_count": 5,
   "id": "1a0102e8",
   "metadata": {},
   "outputs": [
    {
     "data": {
      "text/plain": [
       "ID                      int64\n",
       "Age                    object\n",
       "Experience             object\n",
       "Income                  int64\n",
       "ZIP Code               object\n",
       "Family                  int64\n",
       "CCAvg                  object\n",
       "Education               int64\n",
       "Mortgage               object\n",
       "Personal Loan          object\n",
       "Securities Account    float64\n",
       "Online                 object\n",
       "CreditCard             object\n",
       "dtype: object"
      ]
     },
     "execution_count": 5,
     "metadata": {},
     "output_type": "execute_result"
    }
   ],
   "source": [
    "df.dtypes"
   ]
  },
  {
   "cell_type": "code",
   "execution_count": 6,
   "id": "cfe5ac37",
   "metadata": {},
   "outputs": [
    {
     "data": {
      "text/plain": [
       "array(['25', '45', '39', '35', '?', '53', '50', '34', '65', '29', '48',\n",
       "       '59', '67', '60', '38', '42', '46', '55', '56', '57', '44', '36',\n",
       "       '40', '30', '31', '51', '32', '37', '61', '41', '28', '49', '47',\n",
       "       '62', '58', '54', '33', '27', '43', '66', '24', '52', '26', '64',\n",
       "       '63', 'Nan', '23'], dtype=object)"
      ]
     },
     "execution_count": 6,
     "metadata": {},
     "output_type": "execute_result"
    }
   ],
   "source": [
    "df['Age'].unique()"
   ]
  },
  {
   "cell_type": "code",
   "execution_count": 7,
   "id": "3f9d7e00",
   "metadata": {},
   "outputs": [],
   "source": [
    "df['Age'] = df['Age'].str.extract(r'(\\d+)', expand=False)"
   ]
  },
  {
   "cell_type": "code",
   "execution_count": 8,
   "id": "5490d33a",
   "metadata": {},
   "outputs": [
    {
     "data": {
      "text/plain": [
       "array(['1', '19', '15', '9', '8', '13', '27', '24', '10', '39', '5', '23',\n",
       "       '32', '41', '30', '14', '18', '21', '28', '31', '11', '16', '20',\n",
       "       '35', '6', '25', '7', '12', '26', '37', '17', '2', '36', '29', '3',\n",
       "       '22', '-1', '34', '0', '38', '40', '33', '4', '-2', 'Nan', '42',\n",
       "       '-3', '43'], dtype=object)"
      ]
     },
     "execution_count": 8,
     "metadata": {},
     "output_type": "execute_result"
    }
   ],
   "source": [
    "df['Experience'].unique()"
   ]
  },
  {
   "cell_type": "code",
   "execution_count": 9,
   "id": "1efe8c52",
   "metadata": {},
   "outputs": [],
   "source": [
    "df['Experience'] = df['Experience'].str.extract(r'(\\d+)', expand=False)"
   ]
  },
  {
   "cell_type": "code",
   "execution_count": 10,
   "id": "410b5b9b",
   "metadata": {},
   "outputs": [
    {
     "data": {
      "text/plain": [
       "array(['91107', '90089', '94720', '94112', '91330', '92121', '91711',\n",
       "       '93943', '93023', '94710', '90277', '93106', '94920', '91741',\n",
       "       '95054', '95010', '94305', '91604', '94015', '90095', '91320',\n",
       "       '95521', '95064', '90064', '94539', '94104', '94117', '94801',\n",
       "       '94035', '92647', '95814', '94114', '94115', '92672', '94122',\n",
       "       '90019', '95616', '94065', '95014', '91380', '95747', '92373',\n",
       "       '92093', '94005', '90245', '95819', '94022', '90404', '93407',\n",
       "       '94523', '90024', '91360', '95670', '95123', '90045', '91335',\n",
       "       '93907', '92007', '94606', '94611', '94901', '92220', '93305',\n",
       "       '95134', '94612', '92507', '91730', '94501', '94303', '94105',\n",
       "       '94550', '92612', '95617', '92374', '94080', '94608', '93555',\n",
       "       '93311', '94704', '92717', '92037', '95136', '94542', '94143',\n",
       "       '91775', '92703', '92354', '92024', '92831', '92833', '94304',\n",
       "       '90057', '92130', '91301', '92096', '92646', '92182', '92131',\n",
       "       '93720', '90840', '95035', '93010', '94928', '95831', '91770',\n",
       "       '90007', '94102', '91423', '93955', '94107', '92834', '93117',\n",
       "       '94551', '94596', '94025', '94545', '95053', '90036', '91125',\n",
       "       '95120', '94706', '95827', '90503', '90250', '95817', '95503',\n",
       "       '93111', '94132', '95818', '91942', '90401', '93524', '95133',\n",
       "       '92173', '94043', '92521', '92122', '93118', '92697', '94577',\n",
       "       '91345', '94123', '92152', '91355', '94609', '94306', '96150',\n",
       "       '94110', '94707', '91326', '90291', '92807', '95051', '94085',\n",
       "       '92677', '92614', '92626', '94583', '92103', '92691', '92407',\n",
       "       '90504', '94002', '95039', '94063', '94923', '95023', '90058',\n",
       "       '92126', '94118', '90029', '92806', '94806', '92110', '94536',\n",
       "       '90623', '92069', '92843', '92120', '95605', '90740', '91207',\n",
       "       '95929', '93437', '90630', '90034', '90266', '95630', '?', '92038',\n",
       "       '91304', '92606', '92192', '90745', '95060', '94301', '92692',\n",
       "       '92101', '94610', '90254', '94590', '92028', '92054', '92029',\n",
       "       '93105', '91941', '92346', '94402', '94618', '94904', '9307',\n",
       "       '95482', '91709', '91311', '94509', '92866', '91745', '94111',\n",
       "       '94309', '90073', '92333', '90505', '94998', '94086', '94709',\n",
       "       '95825', '90509', '93108', '94588', '91706', '92109', '92068',\n",
       "       '95841', '92123', '91342', '90232', '92634', '91006', '91768',\n",
       "       '90028', '92008', '95112', '92154', '92115', '92177', '90640',\n",
       "       '94607', '92780', '90009', '92518', '91007', '93014', '94024',\n",
       "       '90027', '95207', '90717', '94534', '94010', '91614', '94234',\n",
       "       '90210', '95020', '92870', '92124', '90049', '94521', '95678',\n",
       "       '95045', '92653', '92821', '90025', '92835', nan, '91910', '94701',\n",
       "       '91129', '90071', '96651', '94960', '91902', '90033', '95621',\n",
       "       '90037', '90005', 'Number', '91109', '93009', '93561', '95126',\n",
       "       '94109', '93107', '94591', '92251', '92648', '92709', '91754',\n",
       "       '92009', '96064', '93940', '91103', '91030', '90066', '95403',\n",
       "       '91016', '95348', '91950', '95822', '94538', '92056', '93657',\n",
       "       '93063', '91040', '92661', '94061', '95758', '96091', '94066',\n",
       "       '94939', '95138', '95762', '92064', '94708', '92106', '92116',\n",
       "       '91302', '90048', '90405', '92325', '91116', '92868', '90638',\n",
       "       '90747', '93611', '95833', '91605', '92675', '90650', '95820',\n",
       "       '90018', '93711', '95973', '92886', '95812', '91203', '91105',\n",
       "       '95008', '90016', '90035', '92129', '90720', '94949', '90041',\n",
       "       '95003', '95192', '91101', '94126', '90230', '93101', '91365',\n",
       "       '91367', '91763', '92660', '92104', '91361', '90011', '90032',\n",
       "       '95354', '94546', '92673', '95741', '95351', '92399', '90274',\n",
       "       '94087', '90044', '94131', '94124', '95032', '90212', '93109',\n",
       "       '94019', '95828', '90086', '94555', '93033', '93022', '91343',\n",
       "       '91911', '94803', '94553', '95211', '90304', '92084', '90601',\n",
       "       '92704', '92350', '94705', '93401', '90502', '94571', '95070',\n",
       "       '92735', '95037', '95135', '94028', '96003', '91024', '90065',\n",
       "       '95405', '95370', '93727', '92867', '95821', '94566', '95125',\n",
       "       '94526', '94604', '96008', '93065', '96001', '95006', ' ', '90639',\n",
       "       '92630', '95307', '91801', '94302', '91710', 'Nan', '93950',\n",
       "       '90059', '94108', '94558', '93933', '92161', '94507', '94575',\n",
       "       '95449', '93403', '93460', '95005', '93302', '94040', '91401',\n",
       "       '95816', '92624', '95131', '94965', '91784', '91765', '90280',\n",
       "       '95422', 'É', '95518', '95193', '92694', '90275', '90272', '91791',\n",
       "       '92705', '91773', '93003', '90755', '96145', '94703', '96094',\n",
       "       '95842', '94116', '90068', '94970', '90813', '94404', '94598'],\n",
       "      dtype=object)"
      ]
     },
     "execution_count": 10,
     "metadata": {},
     "output_type": "execute_result"
    }
   ],
   "source": [
    "df['ZIP Code'].unique()"
   ]
  },
  {
   "cell_type": "code",
   "execution_count": 11,
   "id": "3ce7214e",
   "metadata": {},
   "outputs": [],
   "source": [
    "df['ZIP Code'] = df['ZIP Code'].str.extract(r'(\\d+)', expand=False)"
   ]
  },
  {
   "cell_type": "code",
   "execution_count": 12,
   "id": "80d28824",
   "metadata": {},
   "outputs": [
    {
     "data": {
      "text/plain": [
       "array(['1.6', '1.5', '1', '2.7', '0.4', '0.3', '0.6', '8.9', '2.4', '0.1',\n",
       "       '3.8', '2.5', '2', '4.7', '8.1', '0.5', '0.9', '1.2', '0.7', '3.9',\n",
       "       '0.2', '2.2', '3.3', '1.8', '2.9', '1.4', '5', '2.3', '1.1', '5.7',\n",
       "       '4.5', '2.1', '8', '1.7', '0', '2.8', '3.5', '4', '2.6', '1.3',\n",
       "       '5.6', '5.2', '3', '4.6', '3.6', '7.2', '1.75', '7.4', '2.67',\n",
       "       '7.5', '6.5', '7.8', '7.9', '4.1', '1.9', '4.3', '6.8', '5.1',\n",
       "       '3.1', '0.8', '3.7', '6.2', '0.75', '2.33', '4.9', '0.67', '3.2',\n",
       "       '5.5', '6.9', '4.33', '7.3', '4.2', '4.4', '6.1', '6.33', '6.6',\n",
       "       '5.3', '3.4', '7', '6.3', '8.3', '6', nan, '1.67', '8.6', '7.6',\n",
       "       '6.4', '10', '5.9', '5.4', '8.8', '3,6', '1.33', '9', '6.7',\n",
       "       '4.25', '6.67', '5.8', '4.8', '3.25', '5.67', '8.5', 'Nan', 'Null',\n",
       "       '?', '4.75', '4.67', '3.67', '8.2', '3.33', '5.33', '9.3', '2.75'],\n",
       "      dtype=object)"
      ]
     },
     "execution_count": 12,
     "metadata": {},
     "output_type": "execute_result"
    }
   ],
   "source": [
    "df['CCAvg'].unique()"
   ]
  },
  {
   "cell_type": "code",
   "execution_count": 13,
   "id": "358cba0a",
   "metadata": {},
   "outputs": [],
   "source": [
    "df['CCAvg'] = df['CCAvg'].str.extract(r'(\\d+)', expand=False)"
   ]
  },
  {
   "cell_type": "code",
   "execution_count": 14,
   "id": "8f15a235",
   "metadata": {},
   "outputs": [
    {
     "data": {
      "text/plain": [
       "array(['0', '155', '104', '134', '111', '260', '163', '159', '97', '122',\n",
       "       '193', '198', '285', '412', '153', '211', '207', '240', '455',\n",
       "       '112', '336', '132', '118', '174', '126', '236', '166', '136',\n",
       "       '309', '103', '366', '101', '251', '276', '161', '149', '188',\n",
       "       '116', '135', '244', '164', '81', '315', '140', '95', '89', '90',\n",
       "       '105', '100', '282', '209', '249', '91', '98', '145', '150', '169',\n",
       "       '280', '99', '78', '264', '113', '117', '325', '121', '138', '77',\n",
       "       '158', '109', '131', '391', '88', '129', '196', '617', '123',\n",
       "       '167', '190', '248', '82', '402', '360', '392', '185', 'Nan',\n",
       "       '419', '270', '148', '466', '175', '147', '220', '133', '182',\n",
       "       '290', '125', '124', '224', '141', '119', '139', '115', '458',\n",
       "       '172', '156', '547', nan, '470', '304', '221', '108', '179', '271',\n",
       "       '378', '176', '76', '314', '87', '203', '180', '230', '137', '152',\n",
       "       '485', '300', '272', '144', '94', '208', '275', '83', '218', '327',\n",
       "       '322', '205', '227', '239', '85', '160', '364', '449', '75', '107',\n",
       "       '92', '187', '355', '106', '587', '214', '307', '263', '310',\n",
       "       '127', '252', '170', '265', '177', '305', '372', '79', '301',\n",
       "       '232', '289', '212', '250', '84', '130', '303', '256', '259',\n",
       "       '204', '524', '157', '231', '287', '205,5', '247', '333', '229',\n",
       "       '357', '361', '294', '86', '329', '142', '184', '442', '233',\n",
       "       '215', '394', '475', '197', '228', '297', '128', '241', '437',\n",
       "       '178', '428', '162', '234', '257', '219', '337', '382', '397',\n",
       "       '181', '120', '380', '200', '433', '222', '483', '154', '171',\n",
       "       '146', '110', '201', '277', '268', '237', '102', '93', '354',\n",
       "       '195', '194', '238', '226', '318', '342', '266', '114', '245',\n",
       "       '341', '421', '359', '565', '319', '151', '267', '601', '567',\n",
       "       '352', '284', '199', '80', '334', '389', '186', '246', '589',\n",
       "       '242', '143', '323', '535', '293', '398', '343', '255', '311',\n",
       "       '446', '223', '262', '422', '192', '217', '168', '299', '505',\n",
       "       '400', '165', '183', '326', '298', 'Not Found', '569', '374',\n",
       "       '216', '191', '408', '406', '452', '432', '312', '477', '396',\n",
       "       '582', '358', '213', '467', '331', '295', '235', '635', '385',\n",
       "       '328', '522', '496', '415', '461', '344', '206', '368', '321',\n",
       "       '296', '373', '292', '383', '427', '189', '202', '96', '429',\n",
       "       '431', '286', '508', '210', '416', '553', '403', '225', '500',\n",
       "       '313', '410', '273', '381', '330', '345', '253', '258', '351',\n",
       "       '353', '308', '278', '464', '509', '243', '173', '481', '281',\n",
       "       '306', '577', '302', '405', '571', '581', '550', '283', '612',\n",
       "       '590', '541'], dtype=object)"
      ]
     },
     "execution_count": 14,
     "metadata": {},
     "output_type": "execute_result"
    }
   ],
   "source": [
    "df['Mortgage'].unique()"
   ]
  },
  {
   "cell_type": "code",
   "execution_count": 15,
   "id": "d360ba0a",
   "metadata": {},
   "outputs": [],
   "source": [
    "df['Mortgage'] = df['Mortgage'].str.extract(r'(\\d+)', expand=False)"
   ]
  },
  {
   "cell_type": "code",
   "execution_count": 16,
   "id": "592e0181",
   "metadata": {},
   "outputs": [
    {
     "data": {
      "text/plain": [
       "array(['0', '1', '?'], dtype=object)"
      ]
     },
     "execution_count": 16,
     "metadata": {},
     "output_type": "execute_result"
    }
   ],
   "source": [
    "df['Personal Loan'].unique()"
   ]
  },
  {
   "cell_type": "code",
   "execution_count": 17,
   "id": "a2f08e48",
   "metadata": {},
   "outputs": [],
   "source": [
    "df['Personal Loan'] = df['Personal Loan'].str.extract(r'(\\d+)', expand=False)"
   ]
  },
  {
   "cell_type": "code",
   "execution_count": 18,
   "id": "3f827d2e",
   "metadata": {},
   "outputs": [
    {
     "data": {
      "text/plain": [
       "array(['0', '1', 'one'], dtype=object)"
      ]
     },
     "execution_count": 18,
     "metadata": {},
     "output_type": "execute_result"
    }
   ],
   "source": [
    "df['Online'].unique()"
   ]
  },
  {
   "cell_type": "code",
   "execution_count": 19,
   "id": "bc5c2c19",
   "metadata": {},
   "outputs": [],
   "source": [
    "df['Online'] = df['Online'].str.extract(r'(\\d+)', expand=False)"
   ]
  },
  {
   "cell_type": "code",
   "execution_count": 20,
   "id": "e7151111",
   "metadata": {},
   "outputs": [
    {
     "data": {
      "text/plain": [
       "array(['0', '1', nan, 'zero'], dtype=object)"
      ]
     },
     "execution_count": 20,
     "metadata": {},
     "output_type": "execute_result"
    }
   ],
   "source": [
    "df['CreditCard'].unique()"
   ]
  },
  {
   "cell_type": "code",
   "execution_count": 21,
   "id": "311458b2",
   "metadata": {},
   "outputs": [],
   "source": [
    "df['CreditCard'] = df['CreditCard'].str.extract(r'(\\d+)', expand=False)"
   ]
  },
  {
   "cell_type": "code",
   "execution_count": 22,
   "id": "a88a1445",
   "metadata": {},
   "outputs": [
    {
     "data": {
      "text/plain": [
       "ID                    0\n",
       "Age                   6\n",
       "Experience            1\n",
       "Income                0\n",
       "ZIP Code              7\n",
       "Family                0\n",
       "CCAvg                 7\n",
       "Education             0\n",
       "Mortgage              3\n",
       "Personal Loan         1\n",
       "Securities Account    3\n",
       "Online                1\n",
       "CreditCard            3\n",
       "dtype: int64"
      ]
     },
     "execution_count": 22,
     "metadata": {},
     "output_type": "execute_result"
    }
   ],
   "source": [
    "df.isnull().sum()"
   ]
  },
  {
   "cell_type": "code",
   "execution_count": 23,
   "id": "8d2c3745",
   "metadata": {},
   "outputs": [],
   "source": [
    "df['Mortgage'].fillna(df['Mortgage'].mode()[0], inplace = True)\n",
    "df['Securities Account'].fillna(df['Securities Account'].mode()[0], inplace = True)\n",
    "df['CCAvg'].fillna(df['CCAvg'].mode()[0], inplace = True)\n",
    "df['CreditCard'].fillna(df['CreditCard'].mode()[0], inplace = True)\n",
    "df['Online'].fillna(df['Online'].mode()[0], inplace = True)\n",
    "df['Personal Loan'].fillna(df['Personal Loan'].mode()[0], inplace = True)\n",
    "df['Experience'].fillna(df['Experience'].mode()[0], inplace = True)\n",
    "df['ZIP Code'].fillna(df['ZIP Code'].mode()[0], inplace = True)\n",
    "df['Age'].fillna(df['Age'].mode()[0], inplace = True)"
   ]
  },
  {
   "cell_type": "code",
   "execution_count": 24,
   "id": "065d23fd",
   "metadata": {},
   "outputs": [
    {
     "data": {
      "text/plain": [
       "ID                    0\n",
       "Age                   0\n",
       "Experience            0\n",
       "Income                0\n",
       "ZIP Code              0\n",
       "Family                0\n",
       "CCAvg                 0\n",
       "Education             0\n",
       "Mortgage              0\n",
       "Personal Loan         0\n",
       "Securities Account    0\n",
       "Online                0\n",
       "CreditCard            0\n",
       "dtype: int64"
      ]
     },
     "execution_count": 24,
     "metadata": {},
     "output_type": "execute_result"
    }
   ],
   "source": [
    "df.isnull().sum()"
   ]
  },
  {
   "cell_type": "code",
   "execution_count": 25,
   "id": "a8540805",
   "metadata": {},
   "outputs": [],
   "source": [
    "df['Age'] = df['Age'].astype(int)\n",
    "df['Online'] = df['Online'].astype(int)\n",
    "df['Experience'] = df['Experience'].astype(int)\n",
    "df['Mortgage'] = df['Mortgage'].astype(int)\n",
    "df['CCAvg'] = df['CCAvg'].astype(int)\n",
    "df['Personal Loan'] = df['Personal Loan'].astype(int)\n",
    "df['ZIP Code'] = df['ZIP Code'].astype(int)\n",
    "df['CreditCard'] = df['CreditCard'].astype(int)"
   ]
  },
  {
   "cell_type": "code",
   "execution_count": 26,
   "id": "0f067c4c",
   "metadata": {},
   "outputs": [
    {
     "data": {
      "text/plain": [
       "ID                      int64\n",
       "Age                     int32\n",
       "Experience              int32\n",
       "Income                  int64\n",
       "ZIP Code                int32\n",
       "Family                  int64\n",
       "CCAvg                   int32\n",
       "Education               int64\n",
       "Mortgage                int32\n",
       "Personal Loan           int32\n",
       "Securities Account    float64\n",
       "Online                  int32\n",
       "CreditCard              int32\n",
       "dtype: object"
      ]
     },
     "execution_count": 26,
     "metadata": {},
     "output_type": "execute_result"
    }
   ],
   "source": [
    "df.dtypes"
   ]
  },
  {
   "cell_type": "code",
   "execution_count": 27,
   "id": "dc64ccf0",
   "metadata": {},
   "outputs": [
    {
     "data": {
      "text/html": [
       "<div>\n",
       "<style scoped>\n",
       "    .dataframe tbody tr th:only-of-type {\n",
       "        vertical-align: middle;\n",
       "    }\n",
       "\n",
       "    .dataframe tbody tr th {\n",
       "        vertical-align: top;\n",
       "    }\n",
       "\n",
       "    .dataframe thead th {\n",
       "        text-align: right;\n",
       "    }\n",
       "</style>\n",
       "<table border=\"1\" class=\"dataframe\">\n",
       "  <thead>\n",
       "    <tr style=\"text-align: right;\">\n",
       "      <th></th>\n",
       "      <th>ID</th>\n",
       "      <th>Age</th>\n",
       "      <th>Experience</th>\n",
       "      <th>Income</th>\n",
       "      <th>ZIP Code</th>\n",
       "      <th>Family</th>\n",
       "      <th>CCAvg</th>\n",
       "      <th>Education</th>\n",
       "      <th>Mortgage</th>\n",
       "      <th>Personal Loan</th>\n",
       "      <th>Securities Account</th>\n",
       "      <th>Online</th>\n",
       "      <th>CreditCard</th>\n",
       "    </tr>\n",
       "  </thead>\n",
       "  <tbody>\n",
       "    <tr>\n",
       "      <th>count</th>\n",
       "      <td>5000.000000</td>\n",
       "      <td>5000.000000</td>\n",
       "      <td>5000.00000</td>\n",
       "      <td>5000.000000</td>\n",
       "      <td>5000.000000</td>\n",
       "      <td>5000.000000</td>\n",
       "      <td>5000.000000</td>\n",
       "      <td>5000.000000</td>\n",
       "      <td>5000.000000</td>\n",
       "      <td>5000.000000</td>\n",
       "      <td>5000.00000</td>\n",
       "      <td>5000.000000</td>\n",
       "      <td>5000.000000</td>\n",
       "    </tr>\n",
       "    <tr>\n",
       "      <th>mean</th>\n",
       "      <td>2500.500000</td>\n",
       "      <td>45.331600</td>\n",
       "      <td>20.13560</td>\n",
       "      <td>73.774200</td>\n",
       "      <td>93155.668200</td>\n",
       "      <td>2.396400</td>\n",
       "      <td>1.510800</td>\n",
       "      <td>1.881000</td>\n",
       "      <td>56.446600</td>\n",
       "      <td>0.096000</td>\n",
       "      <td>0.10420</td>\n",
       "      <td>0.596800</td>\n",
       "      <td>0.294000</td>\n",
       "    </tr>\n",
       "    <tr>\n",
       "      <th>std</th>\n",
       "      <td>1443.520003</td>\n",
       "      <td>11.463521</td>\n",
       "      <td>11.41601</td>\n",
       "      <td>46.033729</td>\n",
       "      <td>2121.318584</td>\n",
       "      <td>1.147663</td>\n",
       "      <td>1.741864</td>\n",
       "      <td>0.839869</td>\n",
       "      <td>101.709292</td>\n",
       "      <td>0.294621</td>\n",
       "      <td>0.30555</td>\n",
       "      <td>0.490589</td>\n",
       "      <td>0.455637</td>\n",
       "    </tr>\n",
       "    <tr>\n",
       "      <th>min</th>\n",
       "      <td>1.000000</td>\n",
       "      <td>23.000000</td>\n",
       "      <td>0.00000</td>\n",
       "      <td>8.000000</td>\n",
       "      <td>9307.000000</td>\n",
       "      <td>1.000000</td>\n",
       "      <td>0.000000</td>\n",
       "      <td>1.000000</td>\n",
       "      <td>0.000000</td>\n",
       "      <td>0.000000</td>\n",
       "      <td>0.00000</td>\n",
       "      <td>0.000000</td>\n",
       "      <td>0.000000</td>\n",
       "    </tr>\n",
       "    <tr>\n",
       "      <th>25%</th>\n",
       "      <td>1250.750000</td>\n",
       "      <td>35.000000</td>\n",
       "      <td>10.00000</td>\n",
       "      <td>39.000000</td>\n",
       "      <td>91941.000000</td>\n",
       "      <td>1.000000</td>\n",
       "      <td>0.000000</td>\n",
       "      <td>1.000000</td>\n",
       "      <td>0.000000</td>\n",
       "      <td>0.000000</td>\n",
       "      <td>0.00000</td>\n",
       "      <td>0.000000</td>\n",
       "      <td>0.000000</td>\n",
       "    </tr>\n",
       "    <tr>\n",
       "      <th>50%</th>\n",
       "      <td>2500.500000</td>\n",
       "      <td>45.000000</td>\n",
       "      <td>20.00000</td>\n",
       "      <td>64.000000</td>\n",
       "      <td>93448.500000</td>\n",
       "      <td>2.000000</td>\n",
       "      <td>1.000000</td>\n",
       "      <td>2.000000</td>\n",
       "      <td>0.000000</td>\n",
       "      <td>0.000000</td>\n",
       "      <td>0.00000</td>\n",
       "      <td>1.000000</td>\n",
       "      <td>0.000000</td>\n",
       "    </tr>\n",
       "    <tr>\n",
       "      <th>75%</th>\n",
       "      <td>3750.250000</td>\n",
       "      <td>55.000000</td>\n",
       "      <td>30.00000</td>\n",
       "      <td>98.000000</td>\n",
       "      <td>94608.000000</td>\n",
       "      <td>3.000000</td>\n",
       "      <td>2.000000</td>\n",
       "      <td>3.000000</td>\n",
       "      <td>101.000000</td>\n",
       "      <td>0.000000</td>\n",
       "      <td>0.00000</td>\n",
       "      <td>1.000000</td>\n",
       "      <td>1.000000</td>\n",
       "    </tr>\n",
       "    <tr>\n",
       "      <th>max</th>\n",
       "      <td>5000.000000</td>\n",
       "      <td>67.000000</td>\n",
       "      <td>43.00000</td>\n",
       "      <td>224.000000</td>\n",
       "      <td>96651.000000</td>\n",
       "      <td>4.000000</td>\n",
       "      <td>10.000000</td>\n",
       "      <td>3.000000</td>\n",
       "      <td>635.000000</td>\n",
       "      <td>1.000000</td>\n",
       "      <td>1.00000</td>\n",
       "      <td>1.000000</td>\n",
       "      <td>1.000000</td>\n",
       "    </tr>\n",
       "  </tbody>\n",
       "</table>\n",
       "</div>"
      ],
      "text/plain": [
       "                ID          Age  Experience       Income      ZIP Code  \\\n",
       "count  5000.000000  5000.000000  5000.00000  5000.000000   5000.000000   \n",
       "mean   2500.500000    45.331600    20.13560    73.774200  93155.668200   \n",
       "std    1443.520003    11.463521    11.41601    46.033729   2121.318584   \n",
       "min       1.000000    23.000000     0.00000     8.000000   9307.000000   \n",
       "25%    1250.750000    35.000000    10.00000    39.000000  91941.000000   \n",
       "50%    2500.500000    45.000000    20.00000    64.000000  93448.500000   \n",
       "75%    3750.250000    55.000000    30.00000    98.000000  94608.000000   \n",
       "max    5000.000000    67.000000    43.00000   224.000000  96651.000000   \n",
       "\n",
       "            Family        CCAvg    Education     Mortgage  Personal Loan  \\\n",
       "count  5000.000000  5000.000000  5000.000000  5000.000000    5000.000000   \n",
       "mean      2.396400     1.510800     1.881000    56.446600       0.096000   \n",
       "std       1.147663     1.741864     0.839869   101.709292       0.294621   \n",
       "min       1.000000     0.000000     1.000000     0.000000       0.000000   \n",
       "25%       1.000000     0.000000     1.000000     0.000000       0.000000   \n",
       "50%       2.000000     1.000000     2.000000     0.000000       0.000000   \n",
       "75%       3.000000     2.000000     3.000000   101.000000       0.000000   \n",
       "max       4.000000    10.000000     3.000000   635.000000       1.000000   \n",
       "\n",
       "       Securities Account       Online   CreditCard  \n",
       "count          5000.00000  5000.000000  5000.000000  \n",
       "mean              0.10420     0.596800     0.294000  \n",
       "std               0.30555     0.490589     0.455637  \n",
       "min               0.00000     0.000000     0.000000  \n",
       "25%               0.00000     0.000000     0.000000  \n",
       "50%               0.00000     1.000000     0.000000  \n",
       "75%               0.00000     1.000000     1.000000  \n",
       "max               1.00000     1.000000     1.000000  "
      ]
     },
     "execution_count": 27,
     "metadata": {},
     "output_type": "execute_result"
    }
   ],
   "source": [
    "df.describe()"
   ]
  },
  {
   "cell_type": "code",
   "execution_count": 28,
   "id": "a83a78ed",
   "metadata": {},
   "outputs": [
    {
     "data": {
      "text/html": [
       "<div>\n",
       "<style scoped>\n",
       "    .dataframe tbody tr th:only-of-type {\n",
       "        vertical-align: middle;\n",
       "    }\n",
       "\n",
       "    .dataframe tbody tr th {\n",
       "        vertical-align: top;\n",
       "    }\n",
       "\n",
       "    .dataframe thead th {\n",
       "        text-align: right;\n",
       "    }\n",
       "</style>\n",
       "<table border=\"1\" class=\"dataframe\">\n",
       "  <thead>\n",
       "    <tr style=\"text-align: right;\">\n",
       "      <th></th>\n",
       "      <th>ID</th>\n",
       "      <th>Age</th>\n",
       "      <th>Experience</th>\n",
       "      <th>Income</th>\n",
       "      <th>ZIP Code</th>\n",
       "      <th>Family</th>\n",
       "      <th>CCAvg</th>\n",
       "      <th>Education</th>\n",
       "      <th>Mortgage</th>\n",
       "      <th>Personal Loan</th>\n",
       "      <th>Securities Account</th>\n",
       "      <th>Online</th>\n",
       "      <th>CreditCard</th>\n",
       "    </tr>\n",
       "  </thead>\n",
       "  <tbody>\n",
       "    <tr>\n",
       "      <th>ID</th>\n",
       "      <td>1.000000</td>\n",
       "      <td>-0.007375</td>\n",
       "      <td>-0.008332</td>\n",
       "      <td>-0.017695</td>\n",
       "      <td>0.012564</td>\n",
       "      <td>-0.016797</td>\n",
       "      <td>-0.027577</td>\n",
       "      <td>0.021463</td>\n",
       "      <td>-0.013540</td>\n",
       "      <td>-0.024801</td>\n",
       "      <td>-0.016010</td>\n",
       "      <td>-0.002528</td>\n",
       "      <td>0.017028</td>\n",
       "    </tr>\n",
       "    <tr>\n",
       "      <th>Age</th>\n",
       "      <td>-0.007375</td>\n",
       "      <td>1.000000</td>\n",
       "      <td>0.993421</td>\n",
       "      <td>-0.055156</td>\n",
       "      <td>-0.028334</td>\n",
       "      <td>-0.046607</td>\n",
       "      <td>-0.060338</td>\n",
       "      <td>0.041997</td>\n",
       "      <td>-0.012572</td>\n",
       "      <td>-0.007532</td>\n",
       "      <td>-0.000558</td>\n",
       "      <td>0.013143</td>\n",
       "      <td>0.007298</td>\n",
       "    </tr>\n",
       "    <tr>\n",
       "      <th>Experience</th>\n",
       "      <td>-0.008332</td>\n",
       "      <td>0.993421</td>\n",
       "      <td>1.000000</td>\n",
       "      <td>-0.046990</td>\n",
       "      <td>-0.027694</td>\n",
       "      <td>-0.051725</td>\n",
       "      <td>-0.059104</td>\n",
       "      <td>0.013930</td>\n",
       "      <td>-0.010774</td>\n",
       "      <td>-0.008332</td>\n",
       "      <td>-0.001413</td>\n",
       "      <td>0.014122</td>\n",
       "      <td>0.008794</td>\n",
       "    </tr>\n",
       "    <tr>\n",
       "      <th>Income</th>\n",
       "      <td>-0.017695</td>\n",
       "      <td>-0.055156</td>\n",
       "      <td>-0.046990</td>\n",
       "      <td>1.000000</td>\n",
       "      <td>-0.016483</td>\n",
       "      <td>-0.157501</td>\n",
       "      <td>0.636926</td>\n",
       "      <td>-0.187524</td>\n",
       "      <td>0.207184</td>\n",
       "      <td>0.502462</td>\n",
       "      <td>-0.001740</td>\n",
       "      <td>0.014206</td>\n",
       "      <td>-0.002385</td>\n",
       "    </tr>\n",
       "    <tr>\n",
       "      <th>ZIP Code</th>\n",
       "      <td>0.012564</td>\n",
       "      <td>-0.028334</td>\n",
       "      <td>-0.027694</td>\n",
       "      <td>-0.016483</td>\n",
       "      <td>1.000000</td>\n",
       "      <td>0.011480</td>\n",
       "      <td>-0.005466</td>\n",
       "      <td>-0.018247</td>\n",
       "      <td>0.007620</td>\n",
       "      <td>-0.000129</td>\n",
       "      <td>0.004159</td>\n",
       "      <td>0.016274</td>\n",
       "      <td>0.008876</td>\n",
       "    </tr>\n",
       "    <tr>\n",
       "      <th>Family</th>\n",
       "      <td>-0.016797</td>\n",
       "      <td>-0.046607</td>\n",
       "      <td>-0.051725</td>\n",
       "      <td>-0.157501</td>\n",
       "      <td>0.011480</td>\n",
       "      <td>1.000000</td>\n",
       "      <td>-0.103909</td>\n",
       "      <td>0.064929</td>\n",
       "      <td>-0.020269</td>\n",
       "      <td>0.061367</td>\n",
       "      <td>0.019096</td>\n",
       "      <td>0.010354</td>\n",
       "      <td>0.011588</td>\n",
       "    </tr>\n",
       "    <tr>\n",
       "      <th>CCAvg</th>\n",
       "      <td>-0.027577</td>\n",
       "      <td>-0.060338</td>\n",
       "      <td>-0.059104</td>\n",
       "      <td>0.636926</td>\n",
       "      <td>-0.005466</td>\n",
       "      <td>-0.103909</td>\n",
       "      <td>1.000000</td>\n",
       "      <td>-0.138253</td>\n",
       "      <td>0.106746</td>\n",
       "      <td>0.369846</td>\n",
       "      <td>0.019497</td>\n",
       "      <td>-0.002628</td>\n",
       "      <td>-0.005010</td>\n",
       "    </tr>\n",
       "    <tr>\n",
       "      <th>Education</th>\n",
       "      <td>0.021463</td>\n",
       "      <td>0.041997</td>\n",
       "      <td>0.013930</td>\n",
       "      <td>-0.187524</td>\n",
       "      <td>-0.018247</td>\n",
       "      <td>0.064929</td>\n",
       "      <td>-0.138253</td>\n",
       "      <td>1.000000</td>\n",
       "      <td>-0.033394</td>\n",
       "      <td>0.136722</td>\n",
       "      <td>-0.010914</td>\n",
       "      <td>-0.015004</td>\n",
       "      <td>-0.011014</td>\n",
       "    </tr>\n",
       "    <tr>\n",
       "      <th>Mortgage</th>\n",
       "      <td>-0.013540</td>\n",
       "      <td>-0.012572</td>\n",
       "      <td>-0.010774</td>\n",
       "      <td>0.207184</td>\n",
       "      <td>0.007620</td>\n",
       "      <td>-0.020269</td>\n",
       "      <td>0.106746</td>\n",
       "      <td>-0.033394</td>\n",
       "      <td>1.000000</td>\n",
       "      <td>0.141388</td>\n",
       "      <td>-0.005379</td>\n",
       "      <td>-0.005371</td>\n",
       "      <td>-0.006900</td>\n",
       "    </tr>\n",
       "    <tr>\n",
       "      <th>Personal Loan</th>\n",
       "      <td>-0.024801</td>\n",
       "      <td>-0.007532</td>\n",
       "      <td>-0.008332</td>\n",
       "      <td>0.502462</td>\n",
       "      <td>-0.000129</td>\n",
       "      <td>0.061367</td>\n",
       "      <td>0.369846</td>\n",
       "      <td>0.136722</td>\n",
       "      <td>0.141388</td>\n",
       "      <td>1.000000</td>\n",
       "      <td>0.022186</td>\n",
       "      <td>0.006278</td>\n",
       "      <td>0.002802</td>\n",
       "    </tr>\n",
       "    <tr>\n",
       "      <th>Securities Account</th>\n",
       "      <td>-0.016010</td>\n",
       "      <td>-0.000558</td>\n",
       "      <td>-0.001413</td>\n",
       "      <td>-0.001740</td>\n",
       "      <td>0.004159</td>\n",
       "      <td>0.019096</td>\n",
       "      <td>0.019497</td>\n",
       "      <td>-0.010914</td>\n",
       "      <td>-0.005379</td>\n",
       "      <td>0.022186</td>\n",
       "      <td>1.000000</td>\n",
       "      <td>0.012100</td>\n",
       "      <td>-0.014619</td>\n",
       "    </tr>\n",
       "    <tr>\n",
       "      <th>Online</th>\n",
       "      <td>-0.002528</td>\n",
       "      <td>0.013143</td>\n",
       "      <td>0.014122</td>\n",
       "      <td>0.014206</td>\n",
       "      <td>0.016274</td>\n",
       "      <td>0.010354</td>\n",
       "      <td>-0.002628</td>\n",
       "      <td>-0.015004</td>\n",
       "      <td>-0.005371</td>\n",
       "      <td>0.006278</td>\n",
       "      <td>0.012100</td>\n",
       "      <td>1.000000</td>\n",
       "      <td>0.004210</td>\n",
       "    </tr>\n",
       "    <tr>\n",
       "      <th>CreditCard</th>\n",
       "      <td>0.017028</td>\n",
       "      <td>0.007298</td>\n",
       "      <td>0.008794</td>\n",
       "      <td>-0.002385</td>\n",
       "      <td>0.008876</td>\n",
       "      <td>0.011588</td>\n",
       "      <td>-0.005010</td>\n",
       "      <td>-0.011014</td>\n",
       "      <td>-0.006900</td>\n",
       "      <td>0.002802</td>\n",
       "      <td>-0.014619</td>\n",
       "      <td>0.004210</td>\n",
       "      <td>1.000000</td>\n",
       "    </tr>\n",
       "  </tbody>\n",
       "</table>\n",
       "</div>"
      ],
      "text/plain": [
       "                          ID       Age  Experience    Income  ZIP Code  \\\n",
       "ID                  1.000000 -0.007375   -0.008332 -0.017695  0.012564   \n",
       "Age                -0.007375  1.000000    0.993421 -0.055156 -0.028334   \n",
       "Experience         -0.008332  0.993421    1.000000 -0.046990 -0.027694   \n",
       "Income             -0.017695 -0.055156   -0.046990  1.000000 -0.016483   \n",
       "ZIP Code            0.012564 -0.028334   -0.027694 -0.016483  1.000000   \n",
       "Family             -0.016797 -0.046607   -0.051725 -0.157501  0.011480   \n",
       "CCAvg              -0.027577 -0.060338   -0.059104  0.636926 -0.005466   \n",
       "Education           0.021463  0.041997    0.013930 -0.187524 -0.018247   \n",
       "Mortgage           -0.013540 -0.012572   -0.010774  0.207184  0.007620   \n",
       "Personal Loan      -0.024801 -0.007532   -0.008332  0.502462 -0.000129   \n",
       "Securities Account -0.016010 -0.000558   -0.001413 -0.001740  0.004159   \n",
       "Online             -0.002528  0.013143    0.014122  0.014206  0.016274   \n",
       "CreditCard          0.017028  0.007298    0.008794 -0.002385  0.008876   \n",
       "\n",
       "                      Family     CCAvg  Education  Mortgage  Personal Loan  \\\n",
       "ID                 -0.016797 -0.027577   0.021463 -0.013540      -0.024801   \n",
       "Age                -0.046607 -0.060338   0.041997 -0.012572      -0.007532   \n",
       "Experience         -0.051725 -0.059104   0.013930 -0.010774      -0.008332   \n",
       "Income             -0.157501  0.636926  -0.187524  0.207184       0.502462   \n",
       "ZIP Code            0.011480 -0.005466  -0.018247  0.007620      -0.000129   \n",
       "Family              1.000000 -0.103909   0.064929 -0.020269       0.061367   \n",
       "CCAvg              -0.103909  1.000000  -0.138253  0.106746       0.369846   \n",
       "Education           0.064929 -0.138253   1.000000 -0.033394       0.136722   \n",
       "Mortgage           -0.020269  0.106746  -0.033394  1.000000       0.141388   \n",
       "Personal Loan       0.061367  0.369846   0.136722  0.141388       1.000000   \n",
       "Securities Account  0.019096  0.019497  -0.010914 -0.005379       0.022186   \n",
       "Online              0.010354 -0.002628  -0.015004 -0.005371       0.006278   \n",
       "CreditCard          0.011588 -0.005010  -0.011014 -0.006900       0.002802   \n",
       "\n",
       "                    Securities Account    Online  CreditCard  \n",
       "ID                           -0.016010 -0.002528    0.017028  \n",
       "Age                          -0.000558  0.013143    0.007298  \n",
       "Experience                   -0.001413  0.014122    0.008794  \n",
       "Income                       -0.001740  0.014206   -0.002385  \n",
       "ZIP Code                      0.004159  0.016274    0.008876  \n",
       "Family                        0.019096  0.010354    0.011588  \n",
       "CCAvg                         0.019497 -0.002628   -0.005010  \n",
       "Education                    -0.010914 -0.015004   -0.011014  \n",
       "Mortgage                     -0.005379 -0.005371   -0.006900  \n",
       "Personal Loan                 0.022186  0.006278    0.002802  \n",
       "Securities Account            1.000000  0.012100   -0.014619  \n",
       "Online                        0.012100  1.000000    0.004210  \n",
       "CreditCard                   -0.014619  0.004210    1.000000  "
      ]
     },
     "execution_count": 28,
     "metadata": {},
     "output_type": "execute_result"
    }
   ],
   "source": [
    "df.corr()"
   ]
  },
  {
   "cell_type": "code",
   "execution_count": 29,
   "id": "4ca71406",
   "metadata": {
    "scrolled": false
   },
   "outputs": [
    {
     "data": {
      "text/plain": [
       "Index(['ID', 'Age', 'Experience', 'Income', 'ZIP Code', 'Family', 'CCAvg',\n",
       "       'Education', 'Mortgage', 'Personal Loan', 'Securities Account',\n",
       "       'Online', 'CreditCard'],\n",
       "      dtype='object')"
      ]
     },
     "execution_count": 29,
     "metadata": {},
     "output_type": "execute_result"
    }
   ],
   "source": [
    "df.columns"
   ]
  },
  {
   "cell_type": "code",
   "execution_count": 30,
   "id": "6ede0262",
   "metadata": {},
   "outputs": [],
   "source": [
    "coulmns = ['ID', 'ZIP Code']\n",
    "df.drop(columns=coulmns,inplace=True)"
   ]
  },
  {
   "cell_type": "code",
   "execution_count": 31,
   "id": "eb13e81b",
   "metadata": {},
   "outputs": [
    {
     "data": {
      "text/html": [
       "<div>\n",
       "<style scoped>\n",
       "    .dataframe tbody tr th:only-of-type {\n",
       "        vertical-align: middle;\n",
       "    }\n",
       "\n",
       "    .dataframe tbody tr th {\n",
       "        vertical-align: top;\n",
       "    }\n",
       "\n",
       "    .dataframe thead th {\n",
       "        text-align: right;\n",
       "    }\n",
       "</style>\n",
       "<table border=\"1\" class=\"dataframe\">\n",
       "  <thead>\n",
       "    <tr style=\"text-align: right;\">\n",
       "      <th></th>\n",
       "      <th>Age</th>\n",
       "      <th>Experience</th>\n",
       "      <th>Income</th>\n",
       "      <th>Family</th>\n",
       "      <th>CCAvg</th>\n",
       "      <th>Education</th>\n",
       "      <th>Mortgage</th>\n",
       "      <th>Personal Loan</th>\n",
       "      <th>Securities Account</th>\n",
       "      <th>Online</th>\n",
       "      <th>CreditCard</th>\n",
       "    </tr>\n",
       "  </thead>\n",
       "  <tbody>\n",
       "    <tr>\n",
       "      <th>0</th>\n",
       "      <td>25</td>\n",
       "      <td>1</td>\n",
       "      <td>49</td>\n",
       "      <td>4</td>\n",
       "      <td>1</td>\n",
       "      <td>1</td>\n",
       "      <td>0</td>\n",
       "      <td>0</td>\n",
       "      <td>1.0</td>\n",
       "      <td>0</td>\n",
       "      <td>0</td>\n",
       "    </tr>\n",
       "    <tr>\n",
       "      <th>1</th>\n",
       "      <td>45</td>\n",
       "      <td>19</td>\n",
       "      <td>34</td>\n",
       "      <td>3</td>\n",
       "      <td>1</td>\n",
       "      <td>1</td>\n",
       "      <td>0</td>\n",
       "      <td>0</td>\n",
       "      <td>1.0</td>\n",
       "      <td>0</td>\n",
       "      <td>0</td>\n",
       "    </tr>\n",
       "    <tr>\n",
       "      <th>2</th>\n",
       "      <td>39</td>\n",
       "      <td>15</td>\n",
       "      <td>11</td>\n",
       "      <td>1</td>\n",
       "      <td>1</td>\n",
       "      <td>1</td>\n",
       "      <td>0</td>\n",
       "      <td>0</td>\n",
       "      <td>0.0</td>\n",
       "      <td>0</td>\n",
       "      <td>0</td>\n",
       "    </tr>\n",
       "    <tr>\n",
       "      <th>3</th>\n",
       "      <td>35</td>\n",
       "      <td>9</td>\n",
       "      <td>100</td>\n",
       "      <td>1</td>\n",
       "      <td>2</td>\n",
       "      <td>2</td>\n",
       "      <td>0</td>\n",
       "      <td>0</td>\n",
       "      <td>0.0</td>\n",
       "      <td>0</td>\n",
       "      <td>0</td>\n",
       "    </tr>\n",
       "    <tr>\n",
       "      <th>4</th>\n",
       "      <td>35</td>\n",
       "      <td>8</td>\n",
       "      <td>45</td>\n",
       "      <td>4</td>\n",
       "      <td>1</td>\n",
       "      <td>2</td>\n",
       "      <td>0</td>\n",
       "      <td>0</td>\n",
       "      <td>0.0</td>\n",
       "      <td>0</td>\n",
       "      <td>1</td>\n",
       "    </tr>\n",
       "  </tbody>\n",
       "</table>\n",
       "</div>"
      ],
      "text/plain": [
       "   Age  Experience  Income  Family  CCAvg  Education  Mortgage  Personal Loan  \\\n",
       "0   25           1      49       4      1          1         0              0   \n",
       "1   45          19      34       3      1          1         0              0   \n",
       "2   39          15      11       1      1          1         0              0   \n",
       "3   35           9     100       1      2          2         0              0   \n",
       "4   35           8      45       4      1          2         0              0   \n",
       "\n",
       "   Securities Account  Online  CreditCard  \n",
       "0                 1.0       0           0  \n",
       "1                 1.0       0           0  \n",
       "2                 0.0       0           0  \n",
       "3                 0.0       0           0  \n",
       "4                 0.0       0           1  "
      ]
     },
     "execution_count": 31,
     "metadata": {},
     "output_type": "execute_result"
    }
   ],
   "source": [
    "df.head()"
   ]
  },
  {
   "cell_type": "code",
   "execution_count": 32,
   "id": "28965a87",
   "metadata": {},
   "outputs": [
    {
     "data": {
      "text/plain": [
       "1    1472\n",
       "2    1296\n",
       "4    1222\n",
       "3    1010\n",
       "Name: Family, dtype: int64"
      ]
     },
     "execution_count": 32,
     "metadata": {},
     "output_type": "execute_result"
    }
   ],
   "source": [
    "df['Family'].value_counts()"
   ]
  },
  {
   "cell_type": "code",
   "execution_count": 33,
   "id": "2ef9945e",
   "metadata": {},
   "outputs": [
    {
     "data": {
      "text/plain": [
       "1    2096\n",
       "3    1501\n",
       "2    1403\n",
       "Name: Education, dtype: int64"
      ]
     },
     "execution_count": 33,
     "metadata": {},
     "output_type": "execute_result"
    }
   ],
   "source": [
    "df['Education'].value_counts()"
   ]
  },
  {
   "cell_type": "code",
   "execution_count": 34,
   "id": "66211b16",
   "metadata": {},
   "outputs": [
    {
     "data": {
      "text/plain": [
       "0    3530\n",
       "1    1470\n",
       "Name: CreditCard, dtype: int64"
      ]
     },
     "execution_count": 34,
     "metadata": {},
     "output_type": "execute_result"
    }
   ],
   "source": [
    "df['CreditCard'].value_counts()"
   ]
  },
  {
   "cell_type": "code",
   "execution_count": 35,
   "id": "4d8fa3fe",
   "metadata": {},
   "outputs": [
    {
     "data": {
      "text/plain": [
       "0.0    4479\n",
       "1.0     521\n",
       "Name: Securities Account, dtype: int64"
      ]
     },
     "execution_count": 35,
     "metadata": {},
     "output_type": "execute_result"
    }
   ],
   "source": [
    "df['Securities Account'].value_counts()"
   ]
  },
  {
   "cell_type": "code",
   "execution_count": 36,
   "id": "15b85653",
   "metadata": {},
   "outputs": [
    {
     "data": {
      "text/plain": [
       "1    2984\n",
       "0    2016\n",
       "Name: Online, dtype: int64"
      ]
     },
     "execution_count": 36,
     "metadata": {},
     "output_type": "execute_result"
    }
   ],
   "source": [
    "df['Online'].value_counts()"
   ]
  },
  {
   "cell_type": "code",
   "execution_count": 37,
   "id": "f1037fb0",
   "metadata": {},
   "outputs": [
    {
     "data": {
      "text/plain": [
       "0    1689\n",
       "Name: CCAvg, dtype: int64"
      ]
     },
     "execution_count": 37,
     "metadata": {},
     "output_type": "execute_result"
    }
   ],
   "source": [
    "# Number of people with zero credit card spending per month\n",
    "df[df['CCAvg'] == 0]['CCAvg'].value_counts()"
   ]
  },
  {
   "cell_type": "code",
   "execution_count": 38,
   "id": "540d9c6d",
   "metadata": {},
   "outputs": [
    {
     "data": {
      "text/plain": [
       "0    3464\n",
       "Name: Mortgage, dtype: int64"
      ]
     },
     "execution_count": 38,
     "metadata": {},
     "output_type": "execute_result"
    }
   ],
   "source": [
    "# Number of people with zero mortgage\n",
    "df[df['Mortgage'] == 0]['Mortgage'].value_counts()"
   ]
  },
  {
   "cell_type": "code",
   "execution_count": 39,
   "id": "ca4d9388",
   "metadata": {},
   "outputs": [
    {
     "data": {
      "text/html": [
       "<div>\n",
       "<style scoped>\n",
       "    .dataframe tbody tr th:only-of-type {\n",
       "        vertical-align: middle;\n",
       "    }\n",
       "\n",
       "    .dataframe tbody tr th {\n",
       "        vertical-align: top;\n",
       "    }\n",
       "\n",
       "    .dataframe thead th {\n",
       "        text-align: right;\n",
       "    }\n",
       "</style>\n",
       "<table border=\"1\" class=\"dataframe\">\n",
       "  <thead>\n",
       "    <tr style=\"text-align: right;\">\n",
       "      <th></th>\n",
       "      <th>Age</th>\n",
       "      <th>Experience</th>\n",
       "      <th>Income</th>\n",
       "      <th>CCAvg</th>\n",
       "      <th>Mortgage</th>\n",
       "      <th>Personal Loan</th>\n",
       "      <th>Securities Account</th>\n",
       "      <th>Online</th>\n",
       "      <th>CreditCard</th>\n",
       "      <th>Family_1</th>\n",
       "      <th>Family_2</th>\n",
       "      <th>Family_3</th>\n",
       "      <th>Family_4</th>\n",
       "      <th>Education_1</th>\n",
       "      <th>Education_2</th>\n",
       "      <th>Education_3</th>\n",
       "    </tr>\n",
       "  </thead>\n",
       "  <tbody>\n",
       "    <tr>\n",
       "      <th>0</th>\n",
       "      <td>25</td>\n",
       "      <td>1</td>\n",
       "      <td>49</td>\n",
       "      <td>1</td>\n",
       "      <td>0</td>\n",
       "      <td>0</td>\n",
       "      <td>1.0</td>\n",
       "      <td>0</td>\n",
       "      <td>0</td>\n",
       "      <td>0</td>\n",
       "      <td>0</td>\n",
       "      <td>0</td>\n",
       "      <td>1</td>\n",
       "      <td>1</td>\n",
       "      <td>0</td>\n",
       "      <td>0</td>\n",
       "    </tr>\n",
       "    <tr>\n",
       "      <th>1</th>\n",
       "      <td>45</td>\n",
       "      <td>19</td>\n",
       "      <td>34</td>\n",
       "      <td>1</td>\n",
       "      <td>0</td>\n",
       "      <td>0</td>\n",
       "      <td>1.0</td>\n",
       "      <td>0</td>\n",
       "      <td>0</td>\n",
       "      <td>0</td>\n",
       "      <td>0</td>\n",
       "      <td>1</td>\n",
       "      <td>0</td>\n",
       "      <td>1</td>\n",
       "      <td>0</td>\n",
       "      <td>0</td>\n",
       "    </tr>\n",
       "    <tr>\n",
       "      <th>2</th>\n",
       "      <td>39</td>\n",
       "      <td>15</td>\n",
       "      <td>11</td>\n",
       "      <td>1</td>\n",
       "      <td>0</td>\n",
       "      <td>0</td>\n",
       "      <td>0.0</td>\n",
       "      <td>0</td>\n",
       "      <td>0</td>\n",
       "      <td>1</td>\n",
       "      <td>0</td>\n",
       "      <td>0</td>\n",
       "      <td>0</td>\n",
       "      <td>1</td>\n",
       "      <td>0</td>\n",
       "      <td>0</td>\n",
       "    </tr>\n",
       "    <tr>\n",
       "      <th>3</th>\n",
       "      <td>35</td>\n",
       "      <td>9</td>\n",
       "      <td>100</td>\n",
       "      <td>2</td>\n",
       "      <td>0</td>\n",
       "      <td>0</td>\n",
       "      <td>0.0</td>\n",
       "      <td>0</td>\n",
       "      <td>0</td>\n",
       "      <td>1</td>\n",
       "      <td>0</td>\n",
       "      <td>0</td>\n",
       "      <td>0</td>\n",
       "      <td>0</td>\n",
       "      <td>1</td>\n",
       "      <td>0</td>\n",
       "    </tr>\n",
       "    <tr>\n",
       "      <th>4</th>\n",
       "      <td>35</td>\n",
       "      <td>8</td>\n",
       "      <td>45</td>\n",
       "      <td>1</td>\n",
       "      <td>0</td>\n",
       "      <td>0</td>\n",
       "      <td>0.0</td>\n",
       "      <td>0</td>\n",
       "      <td>1</td>\n",
       "      <td>0</td>\n",
       "      <td>0</td>\n",
       "      <td>0</td>\n",
       "      <td>1</td>\n",
       "      <td>0</td>\n",
       "      <td>1</td>\n",
       "      <td>0</td>\n",
       "    </tr>\n",
       "  </tbody>\n",
       "</table>\n",
       "</div>"
      ],
      "text/plain": [
       "   Age  Experience  Income  CCAvg  Mortgage  Personal Loan  \\\n",
       "0   25           1      49      1         0              0   \n",
       "1   45          19      34      1         0              0   \n",
       "2   39          15      11      1         0              0   \n",
       "3   35           9     100      2         0              0   \n",
       "4   35           8      45      1         0              0   \n",
       "\n",
       "   Securities Account  Online  CreditCard  Family_1  Family_2  Family_3  \\\n",
       "0                 1.0       0           0         0         0         0   \n",
       "1                 1.0       0           0         0         0         1   \n",
       "2                 0.0       0           0         1         0         0   \n",
       "3                 0.0       0           0         1         0         0   \n",
       "4                 0.0       0           1         0         0         0   \n",
       "\n",
       "   Family_4  Education_1  Education_2  Education_3  \n",
       "0         1            1            0            0  \n",
       "1         0            1            0            0  \n",
       "2         0            1            0            0  \n",
       "3         0            0            1            0  \n",
       "4         1            0            1            0  "
      ]
     },
     "execution_count": 39,
     "metadata": {},
     "output_type": "execute_result"
    }
   ],
   "source": [
    "df = pd.get_dummies(df,columns=['Family','Education'])\n",
    "df.head()"
   ]
  },
  {
   "cell_type": "code",
   "execution_count": 40,
   "id": "257fef29",
   "metadata": {},
   "outputs": [],
   "source": [
    "num_cols = ['Age','Experience','Income','CCAvg','Mortgage']\n",
    "sc = StandardScaler()\n",
    "df[num_cols] = sc.fit_transform(df[num_cols])"
   ]
  },
  {
   "cell_type": "code",
   "execution_count": 41,
   "id": "b680aed9",
   "metadata": {},
   "outputs": [
    {
     "data": {
      "text/html": [
       "<div>\n",
       "<style scoped>\n",
       "    .dataframe tbody tr th:only-of-type {\n",
       "        vertical-align: middle;\n",
       "    }\n",
       "\n",
       "    .dataframe tbody tr th {\n",
       "        vertical-align: top;\n",
       "    }\n",
       "\n",
       "    .dataframe thead th {\n",
       "        text-align: right;\n",
       "    }\n",
       "</style>\n",
       "<table border=\"1\" class=\"dataframe\">\n",
       "  <thead>\n",
       "    <tr style=\"text-align: right;\">\n",
       "      <th></th>\n",
       "      <th>Age</th>\n",
       "      <th>Experience</th>\n",
       "      <th>Income</th>\n",
       "      <th>CCAvg</th>\n",
       "      <th>Mortgage</th>\n",
       "      <th>Personal Loan</th>\n",
       "      <th>Securities Account</th>\n",
       "      <th>Online</th>\n",
       "      <th>CreditCard</th>\n",
       "      <th>Family_1</th>\n",
       "      <th>Family_2</th>\n",
       "      <th>Family_3</th>\n",
       "      <th>Family_4</th>\n",
       "      <th>Education_1</th>\n",
       "      <th>Education_2</th>\n",
       "      <th>Education_3</th>\n",
       "    </tr>\n",
       "  </thead>\n",
       "  <tbody>\n",
       "    <tr>\n",
       "      <th>0</th>\n",
       "      <td>-1.773769</td>\n",
       "      <td>-1.676375</td>\n",
       "      <td>-0.538229</td>\n",
       "      <td>-0.293278</td>\n",
       "      <td>-0.555035</td>\n",
       "      <td>0</td>\n",
       "      <td>1.0</td>\n",
       "      <td>0</td>\n",
       "      <td>0</td>\n",
       "      <td>0</td>\n",
       "      <td>0</td>\n",
       "      <td>0</td>\n",
       "      <td>1</td>\n",
       "      <td>1</td>\n",
       "      <td>0</td>\n",
       "      <td>0</td>\n",
       "    </tr>\n",
       "    <tr>\n",
       "      <th>1</th>\n",
       "      <td>-0.028929</td>\n",
       "      <td>-0.099484</td>\n",
       "      <td>-0.864109</td>\n",
       "      <td>-0.293278</td>\n",
       "      <td>-0.555035</td>\n",
       "      <td>0</td>\n",
       "      <td>1.0</td>\n",
       "      <td>0</td>\n",
       "      <td>0</td>\n",
       "      <td>0</td>\n",
       "      <td>0</td>\n",
       "      <td>1</td>\n",
       "      <td>0</td>\n",
       "      <td>1</td>\n",
       "      <td>0</td>\n",
       "      <td>0</td>\n",
       "    </tr>\n",
       "    <tr>\n",
       "      <th>2</th>\n",
       "      <td>-0.552381</td>\n",
       "      <td>-0.449904</td>\n",
       "      <td>-1.363793</td>\n",
       "      <td>-0.293278</td>\n",
       "      <td>-0.555035</td>\n",
       "      <td>0</td>\n",
       "      <td>0.0</td>\n",
       "      <td>0</td>\n",
       "      <td>0</td>\n",
       "      <td>1</td>\n",
       "      <td>0</td>\n",
       "      <td>0</td>\n",
       "      <td>0</td>\n",
       "      <td>1</td>\n",
       "      <td>0</td>\n",
       "      <td>0</td>\n",
       "    </tr>\n",
       "    <tr>\n",
       "      <th>3</th>\n",
       "      <td>-0.901349</td>\n",
       "      <td>-0.975535</td>\n",
       "      <td>0.569765</td>\n",
       "      <td>0.280877</td>\n",
       "      <td>-0.555035</td>\n",
       "      <td>0</td>\n",
       "      <td>0.0</td>\n",
       "      <td>0</td>\n",
       "      <td>0</td>\n",
       "      <td>1</td>\n",
       "      <td>0</td>\n",
       "      <td>0</td>\n",
       "      <td>0</td>\n",
       "      <td>0</td>\n",
       "      <td>1</td>\n",
       "      <td>0</td>\n",
       "    </tr>\n",
       "    <tr>\n",
       "      <th>4</th>\n",
       "      <td>-0.901349</td>\n",
       "      <td>-1.063140</td>\n",
       "      <td>-0.625130</td>\n",
       "      <td>-0.293278</td>\n",
       "      <td>-0.555035</td>\n",
       "      <td>0</td>\n",
       "      <td>0.0</td>\n",
       "      <td>0</td>\n",
       "      <td>1</td>\n",
       "      <td>0</td>\n",
       "      <td>0</td>\n",
       "      <td>0</td>\n",
       "      <td>1</td>\n",
       "      <td>0</td>\n",
       "      <td>1</td>\n",
       "      <td>0</td>\n",
       "    </tr>\n",
       "  </tbody>\n",
       "</table>\n",
       "</div>"
      ],
      "text/plain": [
       "        Age  Experience    Income     CCAvg  Mortgage  Personal Loan  \\\n",
       "0 -1.773769   -1.676375 -0.538229 -0.293278 -0.555035              0   \n",
       "1 -0.028929   -0.099484 -0.864109 -0.293278 -0.555035              0   \n",
       "2 -0.552381   -0.449904 -1.363793 -0.293278 -0.555035              0   \n",
       "3 -0.901349   -0.975535  0.569765  0.280877 -0.555035              0   \n",
       "4 -0.901349   -1.063140 -0.625130 -0.293278 -0.555035              0   \n",
       "\n",
       "   Securities Account  Online  CreditCard  Family_1  Family_2  Family_3  \\\n",
       "0                 1.0       0           0         0         0         0   \n",
       "1                 1.0       0           0         0         0         1   \n",
       "2                 0.0       0           0         1         0         0   \n",
       "3                 0.0       0           0         1         0         0   \n",
       "4                 0.0       0           1         0         0         0   \n",
       "\n",
       "   Family_4  Education_1  Education_2  Education_3  \n",
       "0         1            1            0            0  \n",
       "1         0            1            0            0  \n",
       "2         0            1            0            0  \n",
       "3         0            0            1            0  \n",
       "4         1            0            1            0  "
      ]
     },
     "execution_count": 41,
     "metadata": {},
     "output_type": "execute_result"
    }
   ],
   "source": [
    "df.head()"
   ]
  },
  {
   "cell_type": "code",
   "execution_count": 42,
   "id": "dec513e1",
   "metadata": {},
   "outputs": [
    {
     "data": {
      "text/plain": [
       "<AxesSubplot:>"
      ]
     },
     "execution_count": 42,
     "metadata": {},
     "output_type": "execute_result"
    },
    {
     "data": {
      "image/png": "[encoded data removed]",
      "text/plain": [
       "<Figure size 864x720 with 2 Axes>"
      ]
     },
     "metadata": {
      "needs_background": "light"
     },
     "output_type": "display_data"
    }
   ],
   "source": [
    "# CCAvg Credit average and income are highly correlated\n",
    "fig, ax = plt.subplots(figsize=(12,10))\n",
    "sns.heatmap(df.corr(), cmap='afmhot' , annot = True)"
   ]
  },
  {
   "cell_type": "code",
   "execution_count": 43,
   "id": "21d3fe1b",
   "metadata": {},
   "outputs": [],
   "source": [
    "y = df['Personal Loan']\n",
    "df.drop(columns=['Personal Loan'], inplace = True)\n",
    "x = df "
   ]
  },
  {
   "cell_type": "code",
   "execution_count": 44,
   "id": "d9d18452",
   "metadata": {},
   "outputs": [
    {
     "data": {
      "text/html": [
       "<div>\n",
       "<style scoped>\n",
       "    .dataframe tbody tr th:only-of-type {\n",
       "        vertical-align: middle;\n",
       "    }\n",
       "\n",
       "    .dataframe tbody tr th {\n",
       "        vertical-align: top;\n",
       "    }\n",
       "\n",
       "    .dataframe thead th {\n",
       "        text-align: right;\n",
       "    }\n",
       "</style>\n",
       "<table border=\"1\" class=\"dataframe\">\n",
       "  <thead>\n",
       "    <tr style=\"text-align: right;\">\n",
       "      <th></th>\n",
       "      <th>Age</th>\n",
       "      <th>Experience</th>\n",
       "      <th>Income</th>\n",
       "      <th>CCAvg</th>\n",
       "      <th>Mortgage</th>\n",
       "      <th>Securities Account</th>\n",
       "      <th>Online</th>\n",
       "      <th>CreditCard</th>\n",
       "      <th>Family_1</th>\n",
       "      <th>Family_2</th>\n",
       "      <th>Family_3</th>\n",
       "      <th>Family_4</th>\n",
       "      <th>Education_1</th>\n",
       "      <th>Education_2</th>\n",
       "      <th>Education_3</th>\n",
       "    </tr>\n",
       "  </thead>\n",
       "  <tbody>\n",
       "    <tr>\n",
       "      <th>0</th>\n",
       "      <td>-1.773769</td>\n",
       "      <td>-1.676375</td>\n",
       "      <td>-0.538229</td>\n",
       "      <td>-0.293278</td>\n",
       "      <td>-0.555035</td>\n",
       "      <td>1.0</td>\n",
       "      <td>0</td>\n",
       "      <td>0</td>\n",
       "      <td>0</td>\n",
       "      <td>0</td>\n",
       "      <td>0</td>\n",
       "      <td>1</td>\n",
       "      <td>1</td>\n",
       "      <td>0</td>\n",
       "      <td>0</td>\n",
       "    </tr>\n",
       "    <tr>\n",
       "      <th>1</th>\n",
       "      <td>-0.028929</td>\n",
       "      <td>-0.099484</td>\n",
       "      <td>-0.864109</td>\n",
       "      <td>-0.293278</td>\n",
       "      <td>-0.555035</td>\n",
       "      <td>1.0</td>\n",
       "      <td>0</td>\n",
       "      <td>0</td>\n",
       "      <td>0</td>\n",
       "      <td>0</td>\n",
       "      <td>1</td>\n",
       "      <td>0</td>\n",
       "      <td>1</td>\n",
       "      <td>0</td>\n",
       "      <td>0</td>\n",
       "    </tr>\n",
       "    <tr>\n",
       "      <th>2</th>\n",
       "      <td>-0.552381</td>\n",
       "      <td>-0.449904</td>\n",
       "      <td>-1.363793</td>\n",
       "      <td>-0.293278</td>\n",
       "      <td>-0.555035</td>\n",
       "      <td>0.0</td>\n",
       "      <td>0</td>\n",
       "      <td>0</td>\n",
       "      <td>1</td>\n",
       "      <td>0</td>\n",
       "      <td>0</td>\n",
       "      <td>0</td>\n",
       "      <td>1</td>\n",
       "      <td>0</td>\n",
       "      <td>0</td>\n",
       "    </tr>\n",
       "    <tr>\n",
       "      <th>3</th>\n",
       "      <td>-0.901349</td>\n",
       "      <td>-0.975535</td>\n",
       "      <td>0.569765</td>\n",
       "      <td>0.280877</td>\n",
       "      <td>-0.555035</td>\n",
       "      <td>0.0</td>\n",
       "      <td>0</td>\n",
       "      <td>0</td>\n",
       "      <td>1</td>\n",
       "      <td>0</td>\n",
       "      <td>0</td>\n",
       "      <td>0</td>\n",
       "      <td>0</td>\n",
       "      <td>1</td>\n",
       "      <td>0</td>\n",
       "    </tr>\n",
       "    <tr>\n",
       "      <th>4</th>\n",
       "      <td>-0.901349</td>\n",
       "      <td>-1.063140</td>\n",
       "      <td>-0.625130</td>\n",
       "      <td>-0.293278</td>\n",
       "      <td>-0.555035</td>\n",
       "      <td>0.0</td>\n",
       "      <td>0</td>\n",
       "      <td>1</td>\n",
       "      <td>0</td>\n",
       "      <td>0</td>\n",
       "      <td>0</td>\n",
       "      <td>1</td>\n",
       "      <td>0</td>\n",
       "      <td>1</td>\n",
       "      <td>0</td>\n",
       "    </tr>\n",
       "  </tbody>\n",
       "</table>\n",
       "</div>"
      ],
      "text/plain": [
       "        Age  Experience    Income     CCAvg  Mortgage  Securities Account  \\\n",
       "0 -1.773769   -1.676375 -0.538229 -0.293278 -0.555035                 1.0   \n",
       "1 -0.028929   -0.099484 -0.864109 -0.293278 -0.555035                 1.0   \n",
       "2 -0.552381   -0.449904 -1.363793 -0.293278 -0.555035                 0.0   \n",
       "3 -0.901349   -0.975535  0.569765  0.280877 -0.555035                 0.0   \n",
       "4 -0.901349   -1.063140 -0.625130 -0.293278 -0.555035                 0.0   \n",
       "\n",
       "   Online  CreditCard  Family_1  Family_2  Family_3  Family_4  Education_1  \\\n",
       "0       0           0         0         0         0         1            1   \n",
       "1       0           0         0         0         1         0            1   \n",
       "2       0           0         1         0         0         0            1   \n",
       "3       0           0         1         0         0         0            0   \n",
       "4       0           1         0         0         0         1            0   \n",
       "\n",
       "   Education_2  Education_3  \n",
       "0            0            0  \n",
       "1            0            0  \n",
       "2            0            0  \n",
       "3            1            0  \n",
       "4            1            0  "
      ]
     },
     "execution_count": 44,
     "metadata": {},
     "output_type": "execute_result"
    }
   ],
   "source": [
    "df.head()"
   ]
  },
  {
   "cell_type": "code",
   "execution_count": 45,
   "id": "b6b6cfc1",
   "metadata": {},
   "outputs": [
    {
     "data": {
      "text/plain": [
       "0       0\n",
       "1       0\n",
       "2       0\n",
       "3       0\n",
       "4       0\n",
       "       ..\n",
       "4995    0\n",
       "4996    0\n",
       "4997    0\n",
       "4998    0\n",
       "4999    0\n",
       "Name: Personal Loan, Length: 5000, dtype: int32"
      ]
     },
     "execution_count": 45,
     "metadata": {},
     "output_type": "execute_result"
    }
   ],
   "source": [
    "y"
   ]
  },
  {
   "cell_type": "code",
   "execution_count": 49,
   "id": "1b77bceb",
   "metadata": {},
   "outputs": [],
   "source": [
    "x_train,x_test,y_train,y_test = train_test_split(x,y,test_size=0.2)"
   ]
  },
  {
   "cell_type": "code",
   "execution_count": 50,
   "id": "0fbc87a0",
   "metadata": {},
   "outputs": [
    {
     "name": "stdout",
     "output_type": "stream",
     "text": [
      "(4000, 15)\n",
      "(1000, 15)\n",
      "(4000,)\n",
      "(1000,)\n"
     ]
    }
   ],
   "source": [
    "print(x_train.shape)\n",
    "print(x_test.shape)\n",
    "print(y_train.shape)\n",
    "print(y_test.shape)"
   ]
  },
  {
   "cell_type": "markdown",
   "id": "5de70efa",
   "metadata": {},
   "source": [
    "## logistic regression"
   ]
  },
  {
   "cell_type": "code",
   "execution_count": 55,
   "id": "3342bdbf",
   "metadata": {},
   "outputs": [
    {
     "name": "stdout",
     "output_type": "stream",
     "text": [
      "accuracy 95.39999999999999 %\n"
     ]
    }
   ],
   "source": [
    "model = LogisticRegression().fit(x_train, y_train)\n",
    "prediction = model.predict(x_test)\n",
    "accuracy = accuracy_score(y_test,prediction) \n",
    "print(\"accuracy\",accuracy*100,'%')"
   ]
  },
  {
   "cell_type": "markdown",
   "id": "9577f513",
   "metadata": {},
   "source": [
    "## KNN"
   ]
  },
  {
   "cell_type": "code",
   "execution_count": 60,
   "id": "f19a85fc",
   "metadata": {},
   "outputs": [
    {
     "name": "stdout",
     "output_type": "stream",
     "text": [
      "2 -- accuracy 95.6 %\n",
      "3 -- accuracy 96.6 %\n",
      "4 -- accuracy 95.6 %\n",
      "5 -- accuracy 96.0 %\n",
      "6 -- accuracy 94.89999999999999 %\n",
      "7 -- accuracy 96.0 %\n",
      "8 -- accuracy 95.39999999999999 %\n",
      "9 -- accuracy 95.7 %\n",
      "10 -- accuracy 95.39999999999999 %\n",
      "11 -- accuracy 95.7 %\n",
      "12 -- accuracy 94.8 %\n",
      "13 -- accuracy 95.0 %\n",
      "14 -- accuracy 94.8 %\n",
      "15 -- accuracy 95.1 %\n",
      "16 -- accuracy 94.8 %\n",
      "17 -- accuracy 95.0 %\n",
      "18 -- accuracy 94.89999999999999 %\n",
      "19 -- accuracy 95.3 %\n"
     ]
    }
   ],
   "source": [
    "for i in range(2,20):\n",
    "    knn = KNeighborsClassifier(n_neighbors=i)\n",
    "    knn.fit(x_train, y_train)\n",
    "    prediction = knn.predict(x_test)\n",
    "    accuracy = accuracy_score(y_test,prediction) \n",
    "    print(i,\"--\",\"accuracy\",accuracy*100,'%')"
   ]
  },
  {
   "cell_type": "markdown",
   "id": "9cdaa712",
   "metadata": {},
   "source": [
    "## Decision Tree"
   ]
  },
  {
   "cell_type": "code",
   "execution_count": 61,
   "id": "b73e3123",
   "metadata": {},
   "outputs": [
    {
     "name": "stdout",
     "output_type": "stream",
     "text": [
      "accuracy 97.89999999999999 %\n"
     ]
    }
   ],
   "source": [
    "dt = DecisionTreeClassifier()\n",
    "dt.fit(x_train,y_train)\n",
    "prediction = dt.predict(x_test)\n",
    "accuracy = accuracy_score(y_test,prediction)\n",
    "print(\"accuracy\",accuracy*100,'%')"
   ]
  },
  {
   "cell_type": "markdown",
   "id": "72c1d02c",
   "metadata": {},
   "source": [
    "## svm"
   ]
  },
  {
   "cell_type": "code",
   "execution_count": 62,
   "id": "b490087e",
   "metadata": {},
   "outputs": [
    {
     "name": "stdout",
     "output_type": "stream",
     "text": [
      "accuracy 98.3 %\n"
     ]
    }
   ],
   "source": [
    "svm = SVC()\n",
    "svm.fit(x_train,y_train)\n",
    "prediction = svm.predict(x_test)\n",
    "accuracy = accuracy_score(y_test,prediction)\n",
    "print(\"accuracy\",accuracy*100,'%')"
   ]
  },
  {
   "cell_type": "markdown",
   "id": "397b2e1d",
   "metadata": {},
   "source": [
    "## Random Forest"
   ]
  },
  {
   "cell_type": "code",
   "execution_count": 63,
   "id": "d1261eb5",
   "metadata": {},
   "outputs": [
    {
     "name": "stdout",
     "output_type": "stream",
     "text": [
      "accuracy 98.5 %\n"
     ]
    }
   ],
   "source": [
    "rfc = RandomForestClassifier()\n",
    "rfc.fit(x_train,y_train)\n",
    "prediction = rfc.predict(x_test)\n",
    "accuracy = accuracy_score(y_test,prediction)\n",
    "print(\"accuracy\",accuracy*100,'%')"
   ]
  },
  {
   "cell_type": "markdown",
   "id": "145a092f",
   "metadata": {},
   "source": [
    "## Gradient Boosting"
   ]
  },
  {
   "cell_type": "code",
   "execution_count": 64,
   "id": "6c60a17c",
   "metadata": {},
   "outputs": [
    {
     "name": "stdout",
     "output_type": "stream",
     "text": [
      "accuracy 98.3 %\n"
     ]
    }
   ],
   "source": [
    "gdc = GradientBoostingClassifier()\n",
    "gdc.fit(x_train,y_train)\n",
    "prediction = gdc.predict(x_test)\n",
    "accuracy = accuracy_score(y_test,prediction)\n",
    "print(\"accuracy\",accuracy*100,'%')"
   ]
  },
  {
   "cell_type": "markdown",
   "id": "30e956f3",
   "metadata": {},
   "source": [
    "## GaussianNB"
   ]
  },
  {
   "cell_type": "code",
   "execution_count": 65,
   "id": "ffd9069c",
   "metadata": {},
   "outputs": [
    {
     "name": "stdout",
     "output_type": "stream",
     "text": [
      "accuracy 91.4 %\n"
     ]
    }
   ],
   "source": [
    "gnb = GaussianNB()\n",
    "gnb.fit(x_train,y_train)\n",
    "prediction = gnb.predict(x_test)\n",
    "accuracy = accuracy_score(y_test,prediction)\n",
    "print(\"accuracy\",accuracy*100,'%')"
   ]
  },
  {
   "cell_type": "markdown",
   "id": "d5f03cda",
   "metadata": {},
   "source": [
    "## conclusion\n",
    "\n",
    "The aim of the universal bank is to convert there liability customers into loan customers. They want to set up a new marketing campaign; hence, they need information about the connection between the variables given in the data. Four classification algorithms were used in this project. From the implementation, it seems like Random Forest Classifier have the highest accuracy and we can choose that as our final model"
   ]
  },
  {
   "cell_type": "code",
   "execution_count": null,
   "id": "6675f803",
   "metadata": {},
   "outputs": [],
   "source": []
  },
  {
   "cell_type": "code",
   "execution_count": null,
   "id": "9332be33",
   "metadata": {},
   "outputs": [],
   "source": []
  }
 ],
 "metadata": {
  "kernelspec": {
   "display_name": "Python 3 (ipykernel)",
   "language": "python",
   "name": "python3"
  },
  "language_info": {
   "codemirror_mode": {
    "name": "ipython",
    "version": 3
   },
   "file_extension": ".py",
   "mimetype": "text/x-python",
   "name": "python",
   "nbconvert_exporter": "python",
   "pygments_lexer": "ipython3",
   "version": "3.9.12"
  }
 },
 "nbformat": 4,
 "nbformat_minor": 5
}
